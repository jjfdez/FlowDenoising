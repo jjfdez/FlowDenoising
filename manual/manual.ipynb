{
 "cells": [
  {
   "cell_type": "markdown",
   "id": "5e9b5a87",
   "metadata": {},
   "source": [
    "[![Binder](https://mybinder.org/badge_logo.svg)](https://nbviewer.org/github/Z-interpolation/IsoFlow/blob/main/manual/manual.ipynb)"
   ]
  },
  {
   "cell_type": "markdown",
   "id": "c99f02ed",
   "metadata": {},
   "source": [
    "# FlowDenoising User Manual\n",
    "\n",
    "FlowDenoising is a low-pass filter of volumetric data. It uses a Gaussian kernel and the slices are warped using the optical flow, resulting shaper high-frequency structures. FlowDenoising comes with only one Python module (`flowdenoising.py`)."
   ]
  },
  {
   "cell_type": "markdown",
   "id": "61f25eda",
   "metadata": {},
   "source": [
    "## Install requirements\n",
    "Notice that these shell interactions are performed from the `manual` directory. From the `FlowDenoising`'s root directory, remove \"`../`\" when necessary."
   ]
  },
  {
   "cell_type": "code",
   "execution_count": 11,
   "id": "ec6cdc46",
   "metadata": {},
   "outputs": [
    {
     "name": "stdout",
     "output_type": "stream",
     "text": [
      "Defaulting to user installation because normal site-packages is not writeable\n",
      "Requirement already satisfied: numpy in /usr/lib/python3.10/site-packages (from -r ../requirements.txt (line 1)) (1.22.3)\n",
      "Requirement already satisfied: opencv-python in /home/vruiz/.local/lib/python3.10/site-packages (from -r ../requirements.txt (line 2)) (4.5.5.62)\n",
      "Collecting mrcfile\n",
      "  Downloading mrcfile-1.3.0-py2.py3-none-any.whl (40 kB)\n",
      "     |████████████████████████████████| 40 kB 25 kB/s             \n",
      "\u001b[?25hInstalling collected packages: mrcfile\n",
      "Successfully installed mrcfile-1.3.0\n"
     ]
    }
   ],
   "source": [
    "!pip install -r ../requirements.txt"
   ]
  },
  {
   "cell_type": "markdown",
   "id": "12d57709",
   "metadata": {},
   "source": [
    "## Download a stack\n",
    "This example uses the [EMPIAR-10311](https://www.ebi.ac.uk/empiar/EMPIAR-10310/) volume."
   ]
  },
  {
   "cell_type": "code",
   "execution_count": 10,
   "id": "27286b54",
   "metadata": {},
   "outputs": [
    {
     "name": "stdout",
     "output_type": "stream",
     "text": [
      "--2022-06-11 13:30:45--  https://docs.google.com/uc?export=download&confirm=t&id=1lSFb4VZ5iqR3kLdPv1dDbdOe9dKPZ--_\n",
      "Cargado certificado CA '/etc/ssl/certs/ca-certificates.crt'\n",
      "Resolviendo docs.google.com (docs.google.com)... 216.58.215.174, 2a00:1450:4003:806::200e\n",
      "Conectando con docs.google.com (docs.google.com)[216.58.215.174]:443... conectado.\n",
      "Petición HTTP enviada, esperando respuesta... 303 See Other\n",
      "Localización: https://doc-08-8s-docs.googleusercontent.com/docs/securesc/ha0ro937gcuc7l7deffksulhg5h7mbp1/ic255cp5cs7n2uukbi3bc6jo4ltvomjn/1654947000000/01084993768099894447/*/1lSFb4VZ5iqR3kLdPv1dDbdOe9dKPZ--_?e=download [siguiendo]\n",
      "Aviso: no se admiten comodines en HTTP.\n",
      "--2022-06-11 13:30:45--  https://doc-08-8s-docs.googleusercontent.com/docs/securesc/ha0ro937gcuc7l7deffksulhg5h7mbp1/ic255cp5cs7n2uukbi3bc6jo4ltvomjn/1654947000000/01084993768099894447/*/1lSFb4VZ5iqR3kLdPv1dDbdOe9dKPZ--_?e=download\n",
      "Resolviendo doc-08-8s-docs.googleusercontent.com (doc-08-8s-docs.googleusercontent.com)... 216.58.215.129, 2a00:1450:4003:800::2001\n",
      "Conectando con doc-08-8s-docs.googleusercontent.com (doc-08-8s-docs.googleusercontent.com)[216.58.215.129]:443... conectado.\n",
      "Petición HTTP enviada, esperando respuesta... 200 OK\n",
      "Longitud: 419431424 (400M) [application/marc]\n",
      "Grabando a: «stack.mrc»\n",
      "\n",
      "stack.mrc           100%[===================>] 400,00M  33,3MB/s    en 12s     \n",
      "\n",
      "2022-06-11 13:30:58 (33,3 MB/s) - «stack.mrc» guardado [419431424/419431424]\n",
      "\n"
     ]
    }
   ],
   "source": [
    "FILEID = \"1lSFb4VZ5iqR3kLdPv1dDbdOe9dKPZ--_\"\n",
    "FILENAME = \"stack.mrc\"\n",
    "!wget --load-cookies /tmp/cookies.txt \"https://docs.google.com/uc?export=download&confirm=$(wget --quiet --save-cookies /tmp/cookies.txt --keep-session-cookies --no-check-certificate 'https://docs.google.com/uc?export=download&id={FILEID}' -O- | sed -rn 's/.*confirm=([0-9A-Za-z_]+).*/\\1\\n/p')&id={FILEID}\" -O {FILENAME} && rm -rf /tmp/cookies.txt\n",
    "#!mv /tmp/stack.mrc ."
   ]
  },
  {
   "cell_type": "markdown",
   "id": "37ddd0cc",
   "metadata": {},
   "source": [
    "## Filtering a MRC file\n",
    "Using default parameters"
   ]
  },
  {
   "cell_type": "code",
   "execution_count": 4,
   "id": "1e804321",
   "metadata": {},
   "outputs": [
    {
     "name": "stdout",
     "output_type": "stream",
     "text": [
      "(INFO) isoflow: renaming \"./img_001.tif\" to \"./img_002.tif\"\n",
      "(INFO) isoflow: renaming \"./img_000.tif\" to \"./img_000.tif\"\n",
      "(INFO) isoflow: reading image \"./img_000.tif\"\n",
      "(INFO) isoflow: reading image \"./img_002.tif\"\n",
      "(INFO) isoflow: CPU time = 1.128408541 seconds\n",
      "(INFO) isoflow: writting image \"./img_001.tif\"\n"
     ]
    }
   ],
   "source": [
    "!python ../flowdenoising --input stack.mrc --output filtered_stack.mrc"
   ]
  },
  {
   "cell_type": "markdown",
   "id": "71c44f60",
   "metadata": {},
   "source": [
    "## Getting help"
   ]
  },
  {
   "cell_type": "code",
   "execution_count": 5,
   "id": "143df649",
   "metadata": {},
   "outputs": [
    {
     "name": "stdout",
     "output_type": "stream",
     "text": [
      "usage: isoflow.py [-h] [-i IMAGES] [-f INTERPOLATION_FACTOR]\r\n",
      "                  [-n NUMBER_OF_IMAGES]\r\n",
      "\r\n",
      "Linear interpolation using Optical Flow.\r\n",
      "\r\n",
      "options:\r\n",
      "  -h, --help            show this help message and exit\r\n",
      "  -i IMAGES, --images IMAGES\r\n",
      "                        Input images filename template (default:\r\n",
      "                        ./img_%03d.tif)\r\n",
      "  -f INTERPOLATION_FACTOR, --interpolation_factor INTERPOLATION_FACTOR\r\n",
      "                        Interpolation factor (default: 2)\r\n",
      "  -n NUMBER_OF_IMAGES, --number_of_images NUMBER_OF_IMAGES\r\n",
      "                        Number of input images (default: 2)\r\n"
     ]
    }
   ],
   "source": [
    "!python isoflow.py -h"
   ]
  },
  {
   "cell_type": "markdown",
   "id": "0fdcbbcb",
   "metadata": {},
   "source": [
    "## Results"
   ]
  },
  {
   "cell_type": "code",
   "execution_count": 6,
   "id": "4293586d",
   "metadata": {},
   "outputs": [],
   "source": [
    "# \"animate\" requires imagemagick (https://imagemagick.org)\n",
    "!animate img_00?.tif\n",
    "# Type \"q\" for quiting animate / use \"space\" for pausing"
   ]
  },
  {
   "cell_type": "code",
   "execution_count": 7,
   "id": "71fec166",
   "metadata": {},
   "outputs": [],
   "source": [
    "# \"convert\" requires imagemagick (https://imagemagick.org)\n",
    "!convert img_000.tif img_000.png\n",
    "!convert img_001.tif img_001.png\n",
    "!convert img_002.tif img_002.png"
   ]
  },
  {
   "cell_type": "markdown",
   "id": "799c9d70",
   "metadata": {},
   "source": [
    "### img_000.tif (original image)\n",
    "![img_000.png](./img_000.png \"img_000.png\")"
   ]
  },
  {
   "cell_type": "markdown",
   "id": "87368afb",
   "metadata": {},
   "source": [
    "### img_001.tif (interpolation image)\n",
    "![img_001.png](./img_001.png \"img_001.png\")"
   ]
  },
  {
   "cell_type": "markdown",
   "id": "14dbd2cb",
   "metadata": {},
   "source": [
    "### img_002.tif (original image)\n",
    "![img_002.png](./img_002.png \"img_002.png\")"
   ]
  }
 ],
 "metadata": {
  "kernelspec": {
   "display_name": "Python 3 (ipykernel)",
   "language": "python",
   "name": "python3"
  },
  "language_info": {
   "codemirror_mode": {
    "name": "ipython",
    "version": 3
   },
   "file_extension": ".py",
   "mimetype": "text/x-python",
   "name": "python",
   "nbconvert_exporter": "python",
   "pygments_lexer": "ipython3",
   "version": "3.10.4"
  }
 },
 "nbformat": 4,
 "nbformat_minor": 5
}
