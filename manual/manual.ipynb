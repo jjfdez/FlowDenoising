{
 "cells": [
  {
   "cell_type": "markdown",
   "id": "c99f02ed",
   "metadata": {},
   "source": [
    "# FlowDenoising User Manual\n",
    "\n",
    "FlowDenoising is a low-pass filtering tool for volumetric data. A 1D Gaussian filter is applied to each dimension Z, Y and X (in this order), resulting in a 3D filtering. Unlike classical Gaussian filtering, the 2D slices (in each dimension) are aligned to minimize the smoothing of the structures recognized by the Optical Flow (OF) estimator."
   ]
  },
  {
   "cell_type": "markdown",
   "id": "61f25eda",
   "metadata": {},
   "source": [
    "## 1. Installing the required packages"
   ]
  },
  {
   "cell_type": "code",
   "execution_count": null,
   "id": "ec6cdc46",
   "metadata": {},
   "outputs": [],
   "source": [
    "!pip install -r ../requirements.txt"
   ]
  },
  {
   "cell_type": "code",
   "execution_count": null,
   "id": "dc8ff372",
   "metadata": {},
   "outputs": [],
   "source": [
    "# Delete temporal files\n",
    "!rm -f *.mrc *.tif"
   ]
  },
  {
   "cell_type": "markdown",
   "id": "1e108976",
   "metadata": {},
   "source": [
    "## 2. Denoising using the default parameters\n",
    "\n",
    "The default parameters are:"
   ]
  },
  {
   "cell_type": "code",
   "execution_count": null,
   "id": "eb47ea0c",
   "metadata": {},
   "outputs": [],
   "source": [
    "!python ../flowdenoising.py -h"
   ]
  },
  {
   "cell_type": "markdown",
   "id": "12d57709",
   "metadata": {},
   "source": [
    "### Download a (small) volume\n",
    "This example uses a 32x256x256 (Z, Y, X) crop of the [EMPIAR-10311](https://www.ebi.ac.uk/empiar/EMPIAR-10310/) volume."
   ]
  },
  {
   "cell_type": "code",
   "execution_count": null,
   "id": "67cd767f",
   "metadata": {},
   "outputs": [],
   "source": [
    "%%bash\n",
    "OUTPUT_FILENAME=\"small_vol.mrc\"\n",
    "if test ! -f $OUTPUT_FILENAME ; then\n",
    "    FILEID=\"1jYL6FEMeWGXO0KYlCb9udrICc2qaZLHB\"\n",
    "    wget --no-check-certificate 'https://docs.google.com/uc?export=download&id='$FILEID -O $OUTPUT_FILENAME\n",
    "fi"
   ]
  },
  {
   "cell_type": "code",
   "execution_count": null,
   "id": "6a268526",
   "metadata": {},
   "outputs": [],
   "source": [
    "!ls -l *.mrc"
   ]
  },
  {
   "cell_type": "markdown",
   "id": "0539e5d2",
   "metadata": {},
   "source": [
    "### Filter (using [MRC](https://en.wikipedia.org/wiki/MRC_(file_format)) files)"
   ]
  },
  {
   "cell_type": "code",
   "execution_count": null,
   "id": "05e4d784",
   "metadata": {},
   "outputs": [],
   "source": [
    "%%time\n",
    "!python ../flowdenoising.py -i small_vol.mrc -o denoised_vol.mrc"
   ]
  },
  {
   "cell_type": "code",
   "execution_count": null,
   "id": "bb6ad6b8",
   "metadata": {},
   "outputs": [],
   "source": [
    "!ls -l *.mrc"
   ]
  },
  {
   "cell_type": "markdown",
   "id": "23b08495",
   "metadata": {},
   "source": [
    "### Filter (using multi-page [TIFF](https://en.wikipedia.org/wiki/TIFF) files)"
   ]
  },
  {
   "cell_type": "code",
   "execution_count": null,
   "id": "1b6b7576",
   "metadata": {},
   "outputs": [],
   "source": [
    "%%time\n",
    "!python ../flowdenoising.py -i small_vol.mrc -o denoised_vol.tif"
   ]
  },
  {
   "cell_type": "code",
   "execution_count": null,
   "id": "991a109b",
   "metadata": {},
   "outputs": [],
   "source": [
    "!ls -l *.tif"
   ]
  },
  {
   "cell_type": "markdown",
   "id": "3e59ba6f",
   "metadata": {},
   "source": [
    "### Filtering without optical flow (OF) compensation"
   ]
  },
  {
   "cell_type": "code",
   "execution_count": null,
   "id": "fef894cd",
   "metadata": {},
   "outputs": [],
   "source": [
    "%%time\n",
    "!python ../flowdenoising.py -i small_vol.mrc -o no_OF_denoised_vol.tif --no_OF "
   ]
  },
  {
   "cell_type": "code",
   "execution_count": null,
   "id": "81d501fc",
   "metadata": {},
   "outputs": [],
   "source": [
    "!ls -l *.tif"
   ]
  },
  {
   "cell_type": "markdown",
   "id": "c24f32d3",
   "metadata": {},
   "source": [
    "### Compare"
   ]
  },
  {
   "cell_type": "code",
   "execution_count": null,
   "id": "e5b7a08e",
   "metadata": {},
   "outputs": [],
   "source": [
    "import skimage.io\n",
    "import mrcfile\n",
    "vol_MRC = mrcfile.open(\"small_vol.mrc\")\n",
    "vol = vol_MRC.data\n",
    "denoised_vol = skimage.io.imread(\"denoised_vol.tif\", plugin=\"tifffile\")\n",
    "no_OF_denoised_stack = skimage.io.imread(\"no_OF_denoised_vol.tif\", plugin=\"tifffile\")"
   ]
  },
  {
   "cell_type": "code",
   "execution_count": null,
   "id": "6065150e",
   "metadata": {},
   "outputs": [],
   "source": [
    "%matplotlib inline\n",
    "import matplotlib.pyplot as plt\n",
    "import matplotlib.image as mpimg"
   ]
  },
  {
   "cell_type": "code",
   "execution_count": null,
   "id": "4c32ad3c",
   "metadata": {},
   "outputs": [],
   "source": [
    "from IPython.display import display, Math\n",
    "display(Math(\"\\mathtt{Original~slice}:\"))\n",
    "imgplot = plt.imshow(vol[15], cmap=\"gray\")"
   ]
  },
  {
   "cell_type": "code",
   "execution_count": null,
   "id": "984e25f6",
   "metadata": {},
   "outputs": [],
   "source": [
    "display(Math(\"\\mathtt{Denoised~slice~using~OF~}(\\sigma=2):\"))\n",
    "imgplot = plt.imshow(denoised_vol[15], cmap=\"gray\")"
   ]
  },
  {
   "cell_type": "code",
   "execution_count": null,
   "id": "dc936a94",
   "metadata": {},
   "outputs": [],
   "source": [
    "display(Math(\"\\mathtt{Denoised~slice~using~standard~Gaussian~filtering~}(\\sigma=2):\"))\n",
    "imgplot = plt.imshow(no_OF_denoised_vol[15], cmap=\"gray\")"
   ]
  },
  {
   "cell_type": "markdown",
   "id": "359908f4",
   "metadata": {},
   "source": [
    "### Download a (\"big\") volume"
   ]
  },
  {
   "cell_type": "code",
   "execution_count": null,
   "id": "746ce854",
   "metadata": {},
   "outputs": [],
   "source": [
    "%%bash\n",
    "OUTPUT_FILENAME=\"big_vol.mrc\"\n",
    "if test ! -f $OUTPUT_FILENAME ; then\n",
    "    FILEID=\"1lSFb4VZ5iqR3kLdPv1dDbdOe9dKPZ--_\"\n",
    "    wget --load-cookies /tmp/cookies.txt \"https://docs.google.com/uc?export=download&confirm=$(wget --quiet --save-cookies /tmp/cookies.txt --keep-session-cookies --no-check-certificate 'https://docs.google.com/uc?export=download&id='$FILEID -O- | sed -rn 's/.*confirm=([0-9A-Za-z_]+).*/\\1\\n/p')&id=\"$FILEID -O $OUTPUT_FILENAME && rm -rf /tmp/cookies.txt\n",
    "fi"
   ]
  },
  {
   "cell_type": "code",
   "execution_count": null,
   "id": "84364fcb",
   "metadata": {},
   "outputs": [],
   "source": [
    "vol_MRC = mrcfile.open(\"big_vol.mrc\")\n",
    "vol = vol_MRC.data\n",
    "print(\"(Z_size, Y_size, X_size) =\", vol.shape)"
   ]
  },
  {
   "cell_type": "markdown",
   "id": "37ddd0cc",
   "metadata": {},
   "source": [
    "### Filter"
   ]
  },
  {
   "cell_type": "code",
   "execution_count": null,
   "id": "1e804321",
   "metadata": {},
   "outputs": [],
   "source": [
    "%%time\n",
    "!python ../flowdenoising.py -i big_vol.mrc -o denoised_big_vol.mrc"
   ]
  },
  {
   "cell_type": "markdown",
   "id": "fa61aaec",
   "metadata": {},
   "source": [
    "### Filter without OF compensation"
   ]
  },
  {
   "cell_type": "code",
   "execution_count": null,
   "id": "2c9e4eed",
   "metadata": {},
   "outputs": [],
   "source": [
    "%%time\n",
    "!python ../flowdenoising.py -i big_vol.mrc -o no_OF_denoised_bit_vol.mrc --no_OF "
   ]
  },
  {
   "cell_type": "markdown",
   "id": "a1bbf71e",
   "metadata": {},
   "source": [
    "### Effect"
   ]
  },
  {
   "cell_type": "code",
   "execution_count": null,
   "id": "4bd028a7",
   "metadata": {},
   "outputs": [],
   "source": [
    "denoised_vol_MRC = mrcfile.open(\"denoised_big_vol.mrc\")\n",
    "denoised_vol = denoised_vol_MRC.data\n",
    "no_OF_denoised_vol_MRC = mrcfile.open(\"no_OF_denoised_big_vol.mrc\")\n",
    "no_OF_denoised_vol = no_OF_denoised_vol_MRC.data"
   ]
  },
  {
   "cell_type": "code",
   "execution_count": null,
   "id": "50775d8b",
   "metadata": {},
   "outputs": [],
   "source": [
    "from matplotlib.pyplot import figure\n",
    "figure(figsize=(12, 12))\n",
    "display(Math(\"\\mathtt{Original~slice}:\"))\n",
    "imgplot = plt.imshow(vol[vol.shape[0]//2], cmap=\"gray\")"
   ]
  },
  {
   "cell_type": "code",
   "execution_count": null,
   "id": "23bd5b4a",
   "metadata": {},
   "outputs": [],
   "source": [
    "display(Math(\"\\mathtt{Denoised~slice~using~OF}~(\\sigma=2):\"))\n",
    "figure(figsize=(12, 12))\n",
    "imgplot = plt.imshow(denoised_vol[vol.shape[0]//2], cmap=\"gray\")"
   ]
  },
  {
   "cell_type": "code",
   "execution_count": null,
   "id": "37919d59",
   "metadata": {},
   "outputs": [],
   "source": [
    "display(Math(\"\\mathtt{Denoised~slice~using~standard~Gaussian~filtering}~(\\sigma=2):\"))\n",
    "figure(figsize=(12, 12))\n",
    "imgplot = plt.imshow(no_OF_denoised_vol[vol.shape[0]//2], cmap=\"gray\")"
   ]
  },
  {
   "cell_type": "markdown",
   "id": "21aed0ae",
   "metadata": {},
   "source": [
    "## 3. Controlling the length of the filters ($\\sigma$)"
   ]
  },
  {
   "cell_type": "markdown",
   "id": "a31be19d",
   "metadata": {},
   "source": [
    "### $\\sigma_\\text{Z}=1.0, \\sigma_\\text{Y}=2.0, \\sigma_{X}=3.0$"
   ]
  },
  {
   "cell_type": "code",
   "execution_count": null,
   "id": "0ca9fa58",
   "metadata": {},
   "outputs": [],
   "source": [
    "%%time\n",
    "!python ../flowdenoising.py -i small_vol.mrc -o denoised_vol.mrc -s "
   ]
  }
 ],
 "metadata": {
  "kernelspec": {
   "display_name": "Python 3 (ipykernel)",
   "language": "python",
   "name": "python3"
  },
  "language_info": {
   "codemirror_mode": {
    "name": "ipython",
    "version": 3
   },
   "file_extension": ".py",
   "mimetype": "text/x-python",
   "name": "python",
   "nbconvert_exporter": "python",
   "pygments_lexer": "ipython3",
   "version": "3.10.8"
  }
 },
 "nbformat": 4,
 "nbformat_minor": 5
}
